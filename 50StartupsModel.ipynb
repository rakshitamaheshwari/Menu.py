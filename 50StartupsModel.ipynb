{
 "cells": [
  {
   "cell_type": "code",
   "execution_count": 45,
   "metadata": {},
   "outputs": [
    {
     "data": {
      "text/plain": [
       "6961.477813275563"
      ]
     },
     "execution_count": 45,
     "metadata": {},
     "output_type": "execute_result"
    }
   ],
   "source": [
    "import pandas as pd\n",
    "from sklearn.model_selection import train_test_split\n",
    "from sklearn.linear_model import LinearRegression\n",
    "from sklearn.preprocessing import LabelEncoder    #data preprocessing\n",
    "from sklearn.preprocessing import OneHotEncoder   #data preprocessing\n",
    "from sklearn import metrics\n",
    "\n",
    "\n",
    "dataset=pd.read_csv('Desktop/50_Startups.csv')\n",
    "y=dataset.iloc[:,-1]\n",
    "X=dataset.iloc[:,:4]\n",
    "encode_x=LabelEncoder()                          #provide encoding of string col that is state\n",
    "x4=X.iloc[:,-1]\n",
    "x4_new=encode_x.fit_transform(x4)                #x me states ko fit krke transform\n",
    "X.iloc[:,-1]=x4_new\n",
    "\n",
    "#one hot encoding\n",
    "#creates new fields/columns to remove concepts of priority according to no.encoding\n",
    "\n",
    "oneHotEncoding = OneHotEncoder(categorical_features=[-1])\n",
    "new=oneHotEncoding.fit_transform(X).toarray()\n",
    "\n",
    "X=new[:,1:]                                      #removed one dummy var to remove dummy var trap.\n",
    "X_train,X_test,y_train,y_test=train_test_split(X,y,test_size=0.20,random_state=42)\n",
    "\n",
    "\n",
    "model=LinearRegression()                         #model training\n",
    "model.fit(X_train,y_train)\n",
    "y_pred=model.predict(X_test)                       #testing\n",
    "\n",
    "model.coef_\n",
    "model.intercept_\n",
    "\n",
    "metrics.mean_absolute_error(y_test,y_pred)"
   ]
  },
  {
   "cell_type": "code",
   "execution_count": null,
   "metadata": {},
   "outputs": [],
   "source": []
  }
 ],
 "metadata": {
  "kernelspec": {
   "display_name": "Python 3",
   "language": "python",
   "name": "python3"
  },
  "language_info": {
   "codemirror_mode": {
    "name": "ipython",
    "version": 3
   },
   "file_extension": ".py",
   "mimetype": "text/x-python",
   "name": "python",
   "nbconvert_exporter": "python",
   "pygments_lexer": "ipython3",
   "version": "3.6.6"
  }
 },
 "nbformat": 4,
 "nbformat_minor": 2
}
